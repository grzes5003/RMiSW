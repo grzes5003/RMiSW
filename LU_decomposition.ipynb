{
 "cells": [
  {
   "cell_type": "code",
   "execution_count": null,
   "metadata": {},
   "outputs": [],
   "source": [
    "a = List[List[float]]\n",
    "\n",
    "def determinant(U):\n",
    "    det = 0\n",
    "    for i in U:\n",
    "        det = det * i\n",
    "    print(\"Determinant: \", det)\n",
    "\n",
    "def eigenvalues(U):\n",
    "    print(\"Eigenvalues: \", U[i][i] for i in xrange(len(U)))\n",
    "\n",
    "def lu_decomposition(a):\n",
    "    n = len(a)\n",
    "    if n == 1:\n",
    "        L = np.array([[1]])\n",
    "        U = a.copy()\n",
    "        return (L, U)\n",
    "\n",
    "    _size = int(len(a) / 2)\n",
    "    a11 = [i[:_size] for i in a[:_size]]\n",
    "    a12 = [i[_size:len(a)] for i in a[:_size]]\n",
    "    a21 = [i[:_size] for i in a[_size:len(a)]]\n",
    "    a22 = [i[_size:len(a)] for i in a[_size:len(a)]]\n",
    "    \n",
    "    l11, u11 = lu_decomposition(a11)\n",
    "    ui11 = inverse(u11)\n",
    "    l21 = binet(a21, ui11)\n",
    "    li11 = inverse(l11)\n",
    "    l12 = np.zeros(n-1)\n",
    "    u12 = binet(li11, a12)\n",
    "    l21 = binet(a21, ui11)\n",
    "    u21 = np.zeros(n-1)\n",
    "    S = a22 - binet(binet(a21, ui11), binet(li11, a12))\n",
    "    l22, u22 = lu_decomposition(S)\n",
    "    \n",
    "    L = np.block([[l11, l12], [l21, l22]])\n",
    "    U = np.block([[u11, u12], [u21, u22]])\n",
    "    return (L, U)\n"
   ]
  }
 ],
 "metadata": {
  "kernelspec": {
   "display_name": "Python 3",
   "language": "python",
   "name": "python3"
  },
  "language_info": {
   "codemirror_mode": {
    "name": "ipython",
    "version": 3
   },
   "file_extension": ".py",
   "mimetype": "text/x-python",
   "name": "python",
   "nbconvert_exporter": "python",
   "pygments_lexer": "ipython3",
   "version": "3.8.2"
  }
 },
 "nbformat": 4,
 "nbformat_minor": 4
}
